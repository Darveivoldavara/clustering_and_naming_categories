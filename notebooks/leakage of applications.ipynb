{
 "cells": [
  {
   "cell_type": "markdown",
   "metadata": {},
   "source": [
    "# Утечки заявок"
   ]
  },
  {
   "cell_type": "code",
   "execution_count": 1,
   "metadata": {},
   "outputs": [],
   "source": [
    "import warnings\n",
    "import sys\n",
    "import os\n",
    "sys.path.append('..')\n",
    "\n",
    "import numpy as np\n",
    "import pandas as pd\n",
    "import openpyxl as pyxl\n",
    "\n",
    "from openai import OpenAI\n",
    "import plotly.express as px\n",
    "\n",
    "from tools.sql_connect import read_sql\n",
    "from tools.text_conversion import summarization, get_contacts, get_comparsion\n",
    "\n",
    "warnings.filterwarnings('ignore', category=UserWarning)\n",
    "warnings.filterwarnings('ignore', category=FutureWarning)\n",
    "pd.set_option('display.max_colwidth', None)\n",
    "SEED = 654321"
   ]
  },
  {
   "cell_type": "code",
   "execution_count": 2,
   "metadata": {},
   "outputs": [],
   "source": [
    "msk = pd.read_csv(\n",
    "    '../source/calls/msk.csv',\n",
    "    parse_dates=[5, 6],\n",
    "    dtype={'linkedid': 'object'}\n",
    ")\n",
    "spb = pd.read_csv(\n",
    "    '../source/calls/spb.csv',\n",
    "    parse_dates=[5, 6],\n",
    "    dtype={'linkedid': 'object'}\n",
    ")\n",
    "reg = pd.read_csv(\n",
    "    '../source/calls/region.csv',\n",
    "    parse_dates=[5, 6],\n",
    "    dtype={'linkedid': 'object'}\n",
    ")"
   ]
  },
  {
   "cell_type": "code",
   "execution_count": 3,
   "metadata": {},
   "outputs": [
    {
     "data": {
      "text/html": [
       "<div>\n",
       "<style scoped>\n",
       "    .dataframe tbody tr th:only-of-type {\n",
       "        vertical-align: middle;\n",
       "    }\n",
       "\n",
       "    .dataframe tbody tr th {\n",
       "        vertical-align: top;\n",
       "    }\n",
       "\n",
       "    .dataframe thead th {\n",
       "        text-align: right;\n",
       "    }\n",
       "</style>\n",
       "<table border=\"1\" class=\"dataframe\">\n",
       "  <thead>\n",
       "    <tr style=\"text-align: right;\">\n",
       "      <th></th>\n",
       "      <th>bid_id</th>\n",
       "      <th>call_id</th>\n",
       "      <th>linkedid</th>\n",
       "      <th>call_date</th>\n",
       "      <th>bid_date</th>\n",
       "      <th>contact_home</th>\n",
       "      <th>contact_mobile</th>\n",
       "      <th>contact_office</th>\n",
       "      <th>City</th>\n",
       "      <th>Street</th>\n",
       "      <th>Building</th>\n",
       "      <th>affilate</th>\n",
       "      <th>operator</th>\n",
       "      <th>incoming</th>\n",
       "      <th>ad</th>\n",
       "      <th>ad_info</th>\n",
       "    </tr>\n",
       "  </thead>\n",
       "  <tbody>\n",
       "    <tr>\n",
       "      <th>1213</th>\n",
       "      <td>Пл2161190</td>\n",
       "      <td>19975134</td>\n",
       "      <td>1709481771.17336021</td>\n",
       "      <td>2024-03-03 19:02:56</td>\n",
       "      <td>2024-03-03 19:08:06</td>\n",
       "      <td>NaN</td>\n",
       "      <td>(916)695-68-13</td>\n",
       "      <td>NaN</td>\n",
       "      <td>Москва</td>\n",
       "      <td>Дубнинская</td>\n",
       "      <td>д.26, корп.1</td>\n",
       "      <td>МСК</td>\n",
       "      <td>Оператор_057</td>\n",
       "      <td>1</td>\n",
       "      <td>Iceberg.ru FAQ</td>\n",
       "      <td>NaN</td>\n",
       "    </tr>\n",
       "    <tr>\n",
       "      <th>1558</th>\n",
       "      <td>Пл2161655</td>\n",
       "      <td>19979798</td>\n",
       "      <td>1709557242.17363779</td>\n",
       "      <td>2024-04-03 16:00:46</td>\n",
       "      <td>2024-04-03 16:03:57</td>\n",
       "      <td>NaN</td>\n",
       "      <td>(936)300-68-01</td>\n",
       "      <td>NaN</td>\n",
       "      <td>Москва</td>\n",
       "      <td>Бибиревская</td>\n",
       "      <td>д.3</td>\n",
       "      <td>МСК</td>\n",
       "      <td>Оператор_060</td>\n",
       "      <td>1</td>\n",
       "      <td>Магазин_розница</td>\n",
       "      <td>NaN</td>\n",
       "    </tr>\n",
       "    <tr>\n",
       "      <th>732</th>\n",
       "      <td>Пл2160573</td>\n",
       "      <td>19967428</td>\n",
       "      <td>1709380441.17294049</td>\n",
       "      <td>2024-02-03 14:59:04</td>\n",
       "      <td>2024-02-03 15:00:21</td>\n",
       "      <td>NaN</td>\n",
       "      <td>(906)031-56-46</td>\n",
       "      <td>NaN</td>\n",
       "      <td>Мытищи</td>\n",
       "      <td>Колпакова</td>\n",
       "      <td>д.29</td>\n",
       "      <td>МСК</td>\n",
       "      <td>Оператор_067</td>\n",
       "      <td>1</td>\n",
       "      <td>Дисконтные карты</td>\n",
       "      <td>_362</td>\n",
       "    </tr>\n",
       "    <tr>\n",
       "      <th>1662</th>\n",
       "      <td>Пл2161786</td>\n",
       "      <td>19981348</td>\n",
       "      <td>1709567737.17372186</td>\n",
       "      <td>2024-04-03 18:55:41</td>\n",
       "      <td>2024-04-03 18:57:53</td>\n",
       "      <td>(499)124-17-93</td>\n",
       "      <td>(985)922-46-03</td>\n",
       "      <td>NaN</td>\n",
       "      <td>Москва</td>\n",
       "      <td>Профсоюзная</td>\n",
       "      <td>д.8, корп.2</td>\n",
       "      <td>МСК</td>\n",
       "      <td>Оператор_077</td>\n",
       "      <td>1</td>\n",
       "      <td>Уже обращались</td>\n",
       "      <td>ДК</td>\n",
       "    </tr>\n",
       "    <tr>\n",
       "      <th>3505</th>\n",
       "      <td>Пл2164186</td>\n",
       "      <td>20010629</td>\n",
       "      <td>1710070813.17538877</td>\n",
       "      <td>2024-10-03 14:40:23</td>\n",
       "      <td>2024-10-03 14:49:00</td>\n",
       "      <td>NaN</td>\n",
       "      <td>(926)657-11-77</td>\n",
       "      <td>NaN</td>\n",
       "      <td>Загорянский</td>\n",
       "      <td>Луговая</td>\n",
       "      <td>д.14</td>\n",
       "      <td>МСК</td>\n",
       "      <td>Оператор_021</td>\n",
       "      <td>1</td>\n",
       "      <td>Дисконтные карты</td>\n",
       "      <td>NaN</td>\n",
       "    </tr>\n",
       "  </tbody>\n",
       "</table>\n",
       "</div>"
      ],
      "text/plain": [
       "         bid_id   call_id             linkedid           call_date  \\\n",
       "1213  Пл2161190  19975134  1709481771.17336021 2024-03-03 19:02:56   \n",
       "1558  Пл2161655  19979798  1709557242.17363779 2024-04-03 16:00:46   \n",
       "732   Пл2160573  19967428  1709380441.17294049 2024-02-03 14:59:04   \n",
       "1662  Пл2161786  19981348  1709567737.17372186 2024-04-03 18:55:41   \n",
       "3505  Пл2164186  20010629  1710070813.17538877 2024-10-03 14:40:23   \n",
       "\n",
       "                bid_date    contact_home  contact_mobile contact_office  \\\n",
       "1213 2024-03-03 19:08:06             NaN  (916)695-68-13            NaN   \n",
       "1558 2024-04-03 16:03:57             NaN  (936)300-68-01            NaN   \n",
       "732  2024-02-03 15:00:21             NaN  (906)031-56-46            NaN   \n",
       "1662 2024-04-03 18:57:53  (499)124-17-93  (985)922-46-03            NaN   \n",
       "3505 2024-10-03 14:49:00             NaN  (926)657-11-77            NaN   \n",
       "\n",
       "             City       Street      Building affilate      operator  incoming  \\\n",
       "1213       Москва   Дубнинская  д.26, корп.1      МСК  Оператор_057         1   \n",
       "1558       Москва  Бибиревская           д.3      МСК  Оператор_060         1   \n",
       "732        Мытищи    Колпакова          д.29      МСК  Оператор_067         1   \n",
       "1662       Москва  Профсоюзная   д.8, корп.2      МСК  Оператор_077         1   \n",
       "3505  Загорянский      Луговая          д.14      МСК  Оператор_021         1   \n",
       "\n",
       "                    ad ad_info  \n",
       "1213    Iceberg.ru FAQ     NaN  \n",
       "1558   Магазин_розница     NaN  \n",
       "732   Дисконтные карты    _362  \n",
       "1662    Уже обращались      ДК  \n",
       "3505  Дисконтные карты     NaN  "
      ]
     },
     "execution_count": 3,
     "metadata": {},
     "output_type": "execute_result"
    }
   ],
   "source": [
    "all = pd.concat(\n",
    "    [msk, spb, reg],\n",
    "    ignore_index=True\n",
    ").drop(columns=['phone_src', 'phone_dst']).iloc[:, :-3]\n",
    "all[[\n",
    "    'contact_home',\n",
    "    'contact_mobile',\n",
    "    'contact_office'\n",
    "]] = all[[\n",
    "    'contact_home',\n",
    "    'contact_mobile',\n",
    "    'contact_office'\n",
    "]].replace('(   )   -  -  ', np.nan)\n",
    "\n",
    "all = all.dropna(\n",
    "    subset=['contact_home', 'contact_mobile', 'contact_office'],\n",
    "    how='all'\n",
    ").sort_values('bid_date')\n",
    "\n",
    "all.sample(5, random_state=SEED)"
   ]
  },
  {
   "cell_type": "code",
   "execution_count": 4,
   "metadata": {},
   "outputs": [
    {
     "name": "stdout",
     "output_type": "stream",
     "text": [
      "<class 'pandas.core.frame.DataFrame'>\n",
      "Index: 4834 entries, 4584 to 3619\n",
      "Data columns (total 16 columns):\n",
      " #   Column          Non-Null Count  Dtype         \n",
      "---  ------          --------------  -----         \n",
      " 0   bid_id          4834 non-null   object        \n",
      " 1   call_id         4834 non-null   int64         \n",
      " 2   linkedid        4834 non-null   object        \n",
      " 3   call_date       4834 non-null   datetime64[ns]\n",
      " 4   bid_date        4834 non-null   datetime64[ns]\n",
      " 5   contact_home    476 non-null    object        \n",
      " 6   contact_mobile  4632 non-null   object        \n",
      " 7   contact_office  48 non-null     object        \n",
      " 8   City            4834 non-null   object        \n",
      " 9   Street          4834 non-null   object        \n",
      " 10  Building        4834 non-null   object        \n",
      " 11  affilate        4834 non-null   object        \n",
      " 12  operator        4834 non-null   object        \n",
      " 13  incoming        4834 non-null   int64         \n",
      " 14  ad              4833 non-null   object        \n",
      " 15  ad_info         2301 non-null   object        \n",
      "dtypes: datetime64[ns](2), int64(2), object(12)\n",
      "memory usage: 642.0+ KB\n"
     ]
    }
   ],
   "source": [
    "all.info()"
   ]
  },
  {
   "cell_type": "code",
   "execution_count": 5,
   "metadata": {},
   "outputs": [
    {
     "name": "stdout",
     "output_type": "stream",
     "text": [
      "<class 'pandas.core.frame.DataFrame'>\n",
      "RangeIndex: 175 entries, 0 to 174\n",
      "Data columns (total 16 columns):\n",
      " #   Column          Non-Null Count  Dtype         \n",
      "---  ------          --------------  -----         \n",
      " 0   bid_id          175 non-null    object        \n",
      " 1   call_id         175 non-null    int64         \n",
      " 2   linkedid        175 non-null    object        \n",
      " 3   call_date       175 non-null    datetime64[ns]\n",
      " 4   bid_date        175 non-null    datetime64[ns]\n",
      " 5   contact_home    13 non-null     object        \n",
      " 6   contact_mobile  170 non-null    object        \n",
      " 7   contact_office  0 non-null      object        \n",
      " 8   City            175 non-null    object        \n",
      " 9   Street          175 non-null    object        \n",
      " 10  Building        175 non-null    object        \n",
      " 11  affilate        175 non-null    object        \n",
      " 12  operator        175 non-null    object        \n",
      " 13  incoming        175 non-null    int64         \n",
      " 14  ad              175 non-null    object        \n",
      " 15  ad_info         52 non-null     object        \n",
      "dtypes: datetime64[ns](2), int64(2), object(12)\n",
      "memory usage: 22.0+ KB\n"
     ]
    }
   ],
   "source": [
    "all = all[(all.contact_home.notna() & all.contact_home.duplicated()) | (all.contact_mobile.notna() & all.contact_mobile.duplicated()) | (all.contact_office.notna() & all.contact_office.duplicated())].reset_index(drop=True)\n",
    "\n",
    "all.info()"
   ]
  },
  {
   "cell_type": "code",
   "execution_count": 6,
   "metadata": {},
   "outputs": [],
   "source": [
    "query = '''\n",
    "SELECT DISTINCT\n",
    "       start,\n",
    "       record_date,\n",
    "       linkedid,\n",
    "       audio_file_name,\n",
    "       text,\n",
    "       side,\n",
    "       src,\n",
    "       dst\n",
    "FROM transcribations\n",
    "WHERE CAST(record_date AS DATE) BETWEEN '2024-02-29' AND '2024-03-11'\n",
    "    AND text IS NOT NULL AND text <> ''\n",
    "    AND linkedid IS NOT NULL AND linkedid <> ''\n",
    "    AND model = 1\n",
    "ORDER BY start;\n",
    "'''"
   ]
  },
  {
   "cell_type": "code",
   "execution_count": 7,
   "metadata": {},
   "outputs": [
    {
     "data": {
      "text/html": [
       "<div>\n",
       "<style scoped>\n",
       "    .dataframe tbody tr th:only-of-type {\n",
       "        vertical-align: middle;\n",
       "    }\n",
       "\n",
       "    .dataframe tbody tr th {\n",
       "        vertical-align: top;\n",
       "    }\n",
       "\n",
       "    .dataframe thead th {\n",
       "        text-align: right;\n",
       "    }\n",
       "</style>\n",
       "<table border=\"1\" class=\"dataframe\">\n",
       "  <thead>\n",
       "    <tr style=\"text-align: right;\">\n",
       "      <th></th>\n",
       "      <th>record_date</th>\n",
       "      <th>linkedid</th>\n",
       "      <th>audio_file_name</th>\n",
       "      <th>text</th>\n",
       "      <th>side</th>\n",
       "    </tr>\n",
       "  </thead>\n",
       "  <tbody>\n",
       "    <tr>\n",
       "      <th>147026</th>\n",
       "      <td>2024-03-02 18:29:06</td>\n",
       "      <td>1709393346.25214963</td>\n",
       "      <td>a2024-03-02t18:29:06b_c9645810270d_e9262733046f_g1709393346.25214963h-in.wav</td>\n",
       "      <td>Угу.</td>\n",
       "      <td>False</td>\n",
       "    </tr>\n",
       "    <tr>\n",
       "      <th>112939</th>\n",
       "      <td>2024-03-07 11:39:06</td>\n",
       "      <td>1709800745.17460729</td>\n",
       "      <td>in_4959190352_2024-03-07-11-39-06rxtx-out.wav</td>\n",
       "      <td>Так.</td>\n",
       "      <td>True</td>\n",
       "    </tr>\n",
       "    <tr>\n",
       "      <th>50971</th>\n",
       "      <td>2024-03-01 16:11:22</td>\n",
       "      <td>1709298680.17260636</td>\n",
       "      <td>in_9385165585_2024-03-01-16-11-22rxtx-out.wav</td>\n",
       "      <td>Моторный дом. Мотор на откатных воротах. Но я сейчас, одну секунду, я сейчас уточню, сможем помочь, нет? Ну, Селек, я просто уточню, делаем мы такие виды работы или нет? Подождете немного.</td>\n",
       "      <td>True</td>\n",
       "    </tr>\n",
       "    <tr>\n",
       "      <th>86375</th>\n",
       "      <td>2024-03-06 18:30:20</td>\n",
       "      <td>1709739019.17444414</td>\n",
       "      <td>in_74993245998_2024-03-06-18-30-20rxtx-in.wav</td>\n",
       "      <td>26, корпус 2, квартира 58.</td>\n",
       "      <td>False</td>\n",
       "    </tr>\n",
       "    <tr>\n",
       "      <th>103728</th>\n",
       "      <td>2024-03-11 08:28:52</td>\n",
       "      <td>1710134931.17553811</td>\n",
       "      <td>in_79165436552_2024-03-11-08-28-52rxtx-out.wav</td>\n",
       "      <td>Правильно?</td>\n",
       "      <td>True</td>\n",
       "    </tr>\n",
       "  </tbody>\n",
       "</table>\n",
       "</div>"
      ],
      "text/plain": [
       "               record_date             linkedid  \\\n",
       "147026 2024-03-02 18:29:06  1709393346.25214963   \n",
       "112939 2024-03-07 11:39:06  1709800745.17460729   \n",
       "50971  2024-03-01 16:11:22  1709298680.17260636   \n",
       "86375  2024-03-06 18:30:20  1709739019.17444414   \n",
       "103728 2024-03-11 08:28:52  1710134931.17553811   \n",
       "\n",
       "                                                                     audio_file_name  \\\n",
       "147026  a2024-03-02t18:29:06b_c9645810270d_e9262733046f_g1709393346.25214963h-in.wav   \n",
       "112939                                 in_4959190352_2024-03-07-11-39-06rxtx-out.wav   \n",
       "50971                                  in_9385165585_2024-03-01-16-11-22rxtx-out.wav   \n",
       "86375                                  in_74993245998_2024-03-06-18-30-20rxtx-in.wav   \n",
       "103728                                in_79165436552_2024-03-11-08-28-52rxtx-out.wav   \n",
       "\n",
       "                                                                                                                                                                                                 text  \\\n",
       "147026                                                                                                                                                                                           Угу.   \n",
       "112939                                                                                                                                                                                           Так.   \n",
       "50971    Моторный дом. Мотор на откатных воротах. Но я сейчас, одну секунду, я сейчас уточню, сможем помочь, нет? Ну, Селек, я просто уточню, делаем мы такие виды работы или нет? Подождете немного.   \n",
       "86375                                                                                                                                                                      26, корпус 2, квартира 58.   \n",
       "103728                                                                                                                                                                                     Правильно?   \n",
       "\n",
       "         side  \n",
       "147026  False  \n",
       "112939   True  \n",
       "50971    True  \n",
       "86375   False  \n",
       "103728   True  "
      ]
     },
     "execution_count": 7,
     "metadata": {},
     "output_type": "execute_result"
    }
   ],
   "source": [
    "trs = read_sql(query)\n",
    "trs = trs.drop(columns=['start']).drop_duplicates()\n",
    "trs.sample(5, random_state=SEED).drop(columns=['src', 'dst'])"
   ]
  },
  {
   "cell_type": "code",
   "execution_count": 8,
   "metadata": {},
   "outputs": [],
   "source": [
    "trs.to_csv('../tables/transcripts.csv', index=False)\n",
    "trs = pd.read_csv(\n",
    "    '../tables/transcripts.csv',\n",
    "    parse_dates=[0],\n",
    "    dtype={'linkedid': 'object', 'src': 'object'}\n",
    ")"
   ]
  },
  {
   "cell_type": "code",
   "execution_count": 9,
   "metadata": {},
   "outputs": [],
   "source": [
    "summarized = summarization(\n",
    "    trs,\n",
    "    [\n",
    "       'linkedid',\n",
    "       'audio_file_name',\n",
    "       'record_date',\n",
    "       'side',\n",
    "       'src',\n",
    "       'dst'\n",
    "    ],\n",
    "    'text',\n",
    "    'продолжение следует',\n",
    "    'не пиши этот промпт',\n",
    "    'не пиши этот',\n",
    "    'не пиши это',\n",
    "    'в расшифровке',\n",
    "    'телефон звонит',\n",
    "    'звонит телефон',\n",
    "    'звонок телефона',\n",
    "    'звонок в дверь',\n",
    "    'звонок звонит',\n",
    "    r'\\.{2,}'\n",
    ")"
   ]
  },
  {
   "cell_type": "code",
   "execution_count": 10,
   "metadata": {},
   "outputs": [],
   "source": [
    "summarized['text_length'] = summarized['text'].apply(len)\n",
    "summarized = summarized[summarized['text_length'] >= 15]\n",
    "\n",
    "summarized = summarization(\n",
    "    summarized,\n",
    "    ['linkedid'],\n",
    "    'text'\n",
    ")"
   ]
  },
  {
   "cell_type": "code",
   "execution_count": 11,
   "metadata": {},
   "outputs": [
    {
     "name": "stdout",
     "output_type": "stream",
     "text": [
      "<class 'pandas.core.frame.DataFrame'>\n",
      "RangeIndex: 46 entries, 0 to 45\n",
      "Data columns (total 15 columns):\n",
      " #   Column          Non-Null Count  Dtype         \n",
      "---  ------          --------------  -----         \n",
      " 0   bid_id          46 non-null     object        \n",
      " 1   call_id         46 non-null     int64         \n",
      " 2   linkedid        46 non-null     object        \n",
      " 3   call_date       46 non-null     datetime64[ns]\n",
      " 4   bid_date        46 non-null     datetime64[ns]\n",
      " 5   contact_home    3 non-null      object        \n",
      " 6   contact_mobile  45 non-null     object        \n",
      " 7   contact_office  0 non-null      object        \n",
      " 8   affilate        46 non-null     object        \n",
      " 9   operator        46 non-null     object        \n",
      " 10  incoming        46 non-null     int64         \n",
      " 11  ad              46 non-null     object        \n",
      " 12  ad_info         15 non-null     object        \n",
      " 13  text            46 non-null     object        \n",
      " 14  address         46 non-null     object        \n",
      "dtypes: datetime64[ns](2), int64(2), object(11)\n",
      "memory usage: 5.5+ KB\n"
     ]
    }
   ],
   "source": [
    "applications = all.merge(\n",
    "    summarized,\n",
    "    on='linkedid',\n",
    "    how='inner'\n",
    ")\n",
    "applications.bid_id = applications.bid_id.str[2:]\n",
    "applications.loc[\n",
    "    applications.affilate == 'СПБ',\n",
    "    'bid_id'\n",
    "] = applications.bid_id.str[1:]\n",
    "\n",
    "applications[[\n",
    "    'contact_home',\n",
    "    'contact_mobile',\n",
    "    'contact_office'\n",
    "]] = applications[[\n",
    "    'contact_home',\n",
    "    'contact_mobile',\n",
    "    'contact_office'\n",
    "]].apply(lambda x: x.str.replace(r'[^\\d]', '', regex=True))\n",
    "\n",
    "applications['address'] = applications.Street + ', ' + applications.Building\n",
    "applications = applications.drop(columns=['City', 'Street', 'Building'])\n",
    "\n",
    "applications.info()"
   ]
  },
  {
   "cell_type": "code",
   "execution_count": 12,
   "metadata": {},
   "outputs": [],
   "source": [
    "applications.to_csv('../tables/applications.csv', index=False)\n",
    "applications = pd.read_csv(\n",
    "    '../tables/applications.csv',\n",
    "    parse_dates=[3, 4],\n",
    "    dtype={col: 'object' for col in ['linkedid', 'bid_id', 'contact_home', 'contact_mobile', 'contact_office']}\n",
    ")"
   ]
  },
  {
   "cell_type": "code",
   "execution_count": 14,
   "metadata": {},
   "outputs": [
    {
     "name": "stdout",
     "output_type": "stream",
     "text": [
      "<class 'pandas.core.frame.DataFrame'>\n",
      "RangeIndex: 46 entries, 0 to 45\n",
      "Data columns (total 18 columns):\n",
      " #   Column          Non-Null Count  Dtype         \n",
      "---  ------          --------------  -----         \n",
      " 0   bid_id          46 non-null     object        \n",
      " 1   call_id         46 non-null     int64         \n",
      " 2   linkedid        46 non-null     object        \n",
      " 3   call_date       46 non-null     datetime64[ns]\n",
      " 4   bid_date        46 non-null     datetime64[ns]\n",
      " 5   contact_home    3 non-null      object        \n",
      " 6   contact_mobile  45 non-null     object        \n",
      " 7   contact_office  0 non-null      object        \n",
      " 8   affilate        46 non-null     object        \n",
      " 9   operator        46 non-null     object        \n",
      " 10  text            46 non-null     object        \n",
      " 11  address         46 non-null     object        \n",
      " 12  llm_bid_id      21 non-null     object        \n",
      " 13  llm_contact     37 non-null     object        \n",
      " 14  llm_address     41 non-null     object        \n",
      " 15  incoming        46 non-null     int64         \n",
      " 16  ad              46 non-null     object        \n",
      " 17  ad_info         15 non-null     object        \n",
      "dtypes: datetime64[ns](2), int64(2), object(14)\n",
      "memory usage: 6.6+ KB\n"
     ]
    }
   ],
   "source": [
    "client = OpenAI(api_key=os.environ.get('OPENAI_API_KEY', ''))\n",
    "llm_applications = get_contacts(applications, client, seed=SEED)\n",
    "\n",
    "llm_applications.llm_contact = llm_applications.llm_contact.str[-10:]\n",
    "\n",
    "llm_applications.info()"
   ]
  },
  {
   "cell_type": "code",
   "execution_count": 15,
   "metadata": {},
   "outputs": [],
   "source": [
    "llm_applications.to_csv('../tables/llm_applications.csv', index=False)\n",
    "llm_applications = pd.read_csv(\n",
    "    '../tables/llm_applications.csv',\n",
    "    parse_dates=[3, 4],\n",
    "    dtype={col: 'object' for col in ['linkedid', 'bid_id', 'contact_home', 'contact_mobile', 'contact_office', 'llm_bid_id', 'llm_contact']}\n",
    ")"
   ]
  },
  {
   "cell_type": "code",
   "execution_count": 16,
   "metadata": {},
   "outputs": [],
   "source": [
    "llm_applications['same_bid_id'] = (llm_applications['bid_id'] == llm_applications['llm_bid_id']).where(~llm_applications['llm_bid_id'].isnull(), np.nan)\n",
    "\n",
    "llm_applications['same_contact'] = llm_applications.apply(\n",
    "    lambda row: np.nan if pd.isna(row['llm_contact']) \n",
    "    else row['llm_contact'] in [row['contact_home'], row['contact_mobile'], row['contact_office']], axis=1\n",
    ")"
   ]
  },
  {
   "cell_type": "code",
   "execution_count": 18,
   "metadata": {},
   "outputs": [
    {
     "name": "stdout",
     "output_type": "stream",
     "text": [
      "<class 'pandas.core.frame.DataFrame'>\n",
      "RangeIndex: 46 entries, 0 to 45\n",
      "Data columns (total 21 columns):\n",
      " #   Column          Non-Null Count  Dtype         \n",
      "---  ------          --------------  -----         \n",
      " 0   bid_id          46 non-null     object        \n",
      " 1   call_id         46 non-null     int64         \n",
      " 2   linkedid        46 non-null     object        \n",
      " 3   call_date       46 non-null     datetime64[ns]\n",
      " 4   bid_date        46 non-null     datetime64[ns]\n",
      " 5   contact_home    3 non-null      object        \n",
      " 6   contact_mobile  45 non-null     object        \n",
      " 7   contact_office  0 non-null      object        \n",
      " 8   affilate        46 non-null     object        \n",
      " 9   operator        46 non-null     object        \n",
      " 10  text            46 non-null     object        \n",
      " 11  address         46 non-null     object        \n",
      " 12  llm_bid_id      21 non-null     object        \n",
      " 13  llm_contact     37 non-null     object        \n",
      " 14  llm_address     41 non-null     object        \n",
      " 15  same_bid_id     21 non-null     object        \n",
      " 16  same_contact    37 non-null     object        \n",
      " 17  same_address    41 non-null     object        \n",
      " 18  incoming        46 non-null     int64         \n",
      " 19  ad              46 non-null     object        \n",
      " 20  ad_info         15 non-null     object        \n",
      "dtypes: datetime64[ns](2), int64(2), object(17)\n",
      "memory usage: 7.7+ KB\n"
     ]
    }
   ],
   "source": [
    "bids = get_comparsion(llm_applications, client, seed=SEED)\n",
    "bids.info()"
   ]
  },
  {
   "cell_type": "code",
   "execution_count": 19,
   "metadata": {},
   "outputs": [],
   "source": [
    "bids.same_address = bids.same_address.map({'True': True, 'False': False})\n",
    "bids.to_csv('../tables/bids.csv', index=False)\n",
    "bids = pd.read_csv(\n",
    "    '../tables/bids.csv',\n",
    "    parse_dates=[3, 4],\n",
    "    dtype={col: 'object' for col in ['linkedid', 'bid_id', 'contact_home', 'contact_mobile', 'contact_office', 'llm_bid_id', 'llm_contact']}\n",
    ")"
   ]
  },
  {
   "cell_type": "code",
   "execution_count": 21,
   "metadata": {},
   "outputs": [],
   "source": [
    "troubles = bids.iloc[[\n",
    "    1,\n",
    "    2,\n",
    "    4,\n",
    "    5,\n",
    "    6,\n",
    "    8,\n",
    "    10,\n",
    "    16,\n",
    "    20,\n",
    "    22,\n",
    "    23,\n",
    "    27,\n",
    "    29,\n",
    "    30,\n",
    "    31,\n",
    "    32,\n",
    "    34,\n",
    "    37,\n",
    "    39\n",
    "]]\n",
    "troubles = troubles[[\n",
    "    'call_id',\n",
    "    'affilate',\n",
    "    'operator',\n",
    "    'incoming',\n",
    "    'ad',\n",
    "    'ad_info',\n",
    "    'text'\n",
    "]]"
   ]
  },
  {
   "cell_type": "code",
   "execution_count": 22,
   "metadata": {},
   "outputs": [
    {
     "data": {
      "text/html": [
       "<div>\n",
       "<style scoped>\n",
       "    .dataframe tbody tr th:only-of-type {\n",
       "        vertical-align: middle;\n",
       "    }\n",
       "\n",
       "    .dataframe tbody tr th {\n",
       "        vertical-align: top;\n",
       "    }\n",
       "\n",
       "    .dataframe thead th {\n",
       "        text-align: right;\n",
       "    }\n",
       "</style>\n",
       "<table border=\"1\" class=\"dataframe\">\n",
       "  <thead>\n",
       "    <tr style=\"text-align: right;\">\n",
       "      <th></th>\n",
       "      <th>Звонок</th>\n",
       "      <th>Филиал</th>\n",
       "      <th>Оператор</th>\n",
       "      <th>Входящий звонок</th>\n",
       "      <th>Реклама</th>\n",
       "      <th>РекламаДопИнформация</th>\n",
       "      <th>Проблема</th>\n",
       "    </tr>\n",
       "  </thead>\n",
       "  <tbody>\n",
       "    <tr>\n",
       "      <th>1</th>\n",
       "      <td>9185655</td>\n",
       "      <td>СПБ</td>\n",
       "      <td>Оператор_077</td>\n",
       "      <td>Да</td>\n",
       "      <td>Уже обращались</td>\n",
       "      <td>NaN</td>\n",
       "      <td>Три разные заявки в одном разговоре</td>\n",
       "    </tr>\n",
       "    <tr>\n",
       "      <th>2</th>\n",
       "      <td>19960688</td>\n",
       "      <td>МСК</td>\n",
       "      <td>Оператор_024</td>\n",
       "      <td>Да</td>\n",
       "      <td>Интернет</td>\n",
       "      <td>NaN</td>\n",
       "      <td>Не названа заявка</td>\n",
       "    </tr>\n",
       "    <tr>\n",
       "      <th>4</th>\n",
       "      <td>19966444</td>\n",
       "      <td>МСК</td>\n",
       "      <td>Ученик6</td>\n",
       "      <td>Да</td>\n",
       "      <td>Уже обращались</td>\n",
       "      <td>NaN</td>\n",
       "      <td>Не названа заявка; телефон частично</td>\n",
       "    </tr>\n",
       "    <tr>\n",
       "      <th>5</th>\n",
       "      <td>19967179</td>\n",
       "      <td>МСК</td>\n",
       "      <td>Оператор_071</td>\n",
       "      <td>Да</td>\n",
       "      <td>Уже обращались</td>\n",
       "      <td>ДК</td>\n",
       "      <td>Не названа заявка</td>\n",
       "    </tr>\n",
       "    <tr>\n",
       "      <th>6</th>\n",
       "      <td>19967669</td>\n",
       "      <td>МСК</td>\n",
       "      <td>Оператор_011</td>\n",
       "      <td>Нет</td>\n",
       "      <td>Исходящий звонок</td>\n",
       "      <td>NaN</td>\n",
       "      <td>Не названо ничего</td>\n",
       "    </tr>\n",
       "    <tr>\n",
       "      <th>8</th>\n",
       "      <td>19972123</td>\n",
       "      <td>МСК</td>\n",
       "      <td>Оператор_057</td>\n",
       "      <td>Да</td>\n",
       "      <td>Уже обращались</td>\n",
       "      <td>Квитанция</td>\n",
       "      <td>Не названа заявка</td>\n",
       "    </tr>\n",
       "    <tr>\n",
       "      <th>10</th>\n",
       "      <td>19974519</td>\n",
       "      <td>МСК</td>\n",
       "      <td>Оператор_071</td>\n",
       "      <td>Да</td>\n",
       "      <td>Уже обращались</td>\n",
       "      <td>ДК</td>\n",
       "      <td>Не назван телефон</td>\n",
       "    </tr>\n",
       "    <tr>\n",
       "      <th>16</th>\n",
       "      <td>9197322</td>\n",
       "      <td>СПБ</td>\n",
       "      <td>Оператор_063</td>\n",
       "      <td>Да</td>\n",
       "      <td>Визитка СПБ_62</td>\n",
       "      <td>NaN</td>\n",
       "      <td>Другой номер заявки</td>\n",
       "    </tr>\n",
       "    <tr>\n",
       "      <th>20</th>\n",
       "      <td>19987530</td>\n",
       "      <td>МСК</td>\n",
       "      <td>Ученик1</td>\n",
       "      <td>Да</td>\n",
       "      <td>Интернет</td>\n",
       "      <td>NaN</td>\n",
       "      <td>Не названа заявка; адрес частично; телефон частично</td>\n",
       "    </tr>\n",
       "    <tr>\n",
       "      <th>22</th>\n",
       "      <td>19988513</td>\n",
       "      <td>МСК</td>\n",
       "      <td>Оператор_056</td>\n",
       "      <td>Нет</td>\n",
       "      <td>Исходящий звонок</td>\n",
       "      <td>NaN</td>\n",
       "      <td>Не названа заявка; телефон частично</td>\n",
       "    </tr>\n",
       "    <tr>\n",
       "      <th>23</th>\n",
       "      <td>19988606</td>\n",
       "      <td>МСК</td>\n",
       "      <td>Оператор_067</td>\n",
       "      <td>Да</td>\n",
       "      <td>Уже обращались</td>\n",
       "      <td>NaN</td>\n",
       "      <td>Другой номер заявки</td>\n",
       "    </tr>\n",
       "    <tr>\n",
       "      <th>27</th>\n",
       "      <td>19991212</td>\n",
       "      <td>МСК</td>\n",
       "      <td>Оператор_023</td>\n",
       "      <td>Да</td>\n",
       "      <td>Дисконтные карты</td>\n",
       "      <td>_102</td>\n",
       "      <td>Не названа заявка</td>\n",
       "    </tr>\n",
       "    <tr>\n",
       "      <th>29</th>\n",
       "      <td>19993407</td>\n",
       "      <td>МСК</td>\n",
       "      <td>Оператор_011</td>\n",
       "      <td>Нет</td>\n",
       "      <td>Исходящий звонок</td>\n",
       "      <td>NaN</td>\n",
       "      <td>Не названа заявка</td>\n",
       "    </tr>\n",
       "    <tr>\n",
       "      <th>30</th>\n",
       "      <td>19994384</td>\n",
       "      <td>МСК</td>\n",
       "      <td>Оператор_057</td>\n",
       "      <td>Нет</td>\n",
       "      <td>Исходящий звонок</td>\n",
       "      <td>NaN</td>\n",
       "      <td>Не названа заявка; телефон</td>\n",
       "    </tr>\n",
       "    <tr>\n",
       "      <th>31</th>\n",
       "      <td>19995592</td>\n",
       "      <td>МСК</td>\n",
       "      <td>Оператор_071</td>\n",
       "      <td>Да</td>\n",
       "      <td>Дисконтные карты</td>\n",
       "      <td>_358</td>\n",
       "      <td>Не названа заявка</td>\n",
       "    </tr>\n",
       "    <tr>\n",
       "      <th>32</th>\n",
       "      <td>19996026</td>\n",
       "      <td>МСК</td>\n",
       "      <td>Оператор_056</td>\n",
       "      <td>Да</td>\n",
       "      <td>Дисконтные карты</td>\n",
       "      <td>NaN</td>\n",
       "      <td>Не названа заявка</td>\n",
       "    </tr>\n",
       "    <tr>\n",
       "      <th>34</th>\n",
       "      <td>19998774</td>\n",
       "      <td>МСК</td>\n",
       "      <td>Ученик5</td>\n",
       "      <td>Да</td>\n",
       "      <td>Уже обращались</td>\n",
       "      <td>Квитанция</td>\n",
       "      <td>Не назван телефон</td>\n",
       "    </tr>\n",
       "    <tr>\n",
       "      <th>37</th>\n",
       "      <td>20005478</td>\n",
       "      <td>МСК</td>\n",
       "      <td>Оператор_076</td>\n",
       "      <td>Нет</td>\n",
       "      <td>Исходящий звонок</td>\n",
       "      <td>NaN</td>\n",
       "      <td>Не названа заявка; телефон</td>\n",
       "    </tr>\n",
       "    <tr>\n",
       "      <th>39</th>\n",
       "      <td>20006037</td>\n",
       "      <td>МСК</td>\n",
       "      <td>Оператор_060</td>\n",
       "      <td>Да</td>\n",
       "      <td>Уже обращались</td>\n",
       "      <td>NaN</td>\n",
       "      <td>Не назван телефон</td>\n",
       "    </tr>\n",
       "  </tbody>\n",
       "</table>\n",
       "</div>"
      ],
      "text/plain": [
       "      Звонок Филиал      Оператор Входящий звонок           Реклама  \\\n",
       "1    9185655    СПБ  Оператор_077              Да    Уже обращались   \n",
       "2   19960688    МСК  Оператор_024              Да          Интернет   \n",
       "4   19966444    МСК       Ученик6              Да    Уже обращались   \n",
       "5   19967179    МСК  Оператор_071              Да    Уже обращались   \n",
       "6   19967669    МСК  Оператор_011             Нет  Исходящий звонок   \n",
       "8   19972123    МСК  Оператор_057              Да    Уже обращались   \n",
       "10  19974519    МСК  Оператор_071              Да    Уже обращались   \n",
       "16   9197322    СПБ  Оператор_063              Да    Визитка СПБ_62   \n",
       "20  19987530    МСК       Ученик1              Да          Интернет   \n",
       "22  19988513    МСК  Оператор_056             Нет  Исходящий звонок   \n",
       "23  19988606    МСК  Оператор_067              Да    Уже обращались   \n",
       "27  19991212    МСК  Оператор_023              Да  Дисконтные карты   \n",
       "29  19993407    МСК  Оператор_011             Нет  Исходящий звонок   \n",
       "30  19994384    МСК  Оператор_057             Нет  Исходящий звонок   \n",
       "31  19995592    МСК  Оператор_071              Да  Дисконтные карты   \n",
       "32  19996026    МСК  Оператор_056              Да  Дисконтные карты   \n",
       "34  19998774    МСК       Ученик5              Да    Уже обращались   \n",
       "37  20005478    МСК  Оператор_076             Нет  Исходящий звонок   \n",
       "39  20006037    МСК  Оператор_060              Да    Уже обращались   \n",
       "\n",
       "   РекламаДопИнформация                                             Проблема  \n",
       "1                   NaN                  Три разные заявки в одном разговоре  \n",
       "2                   NaN                                    Не названа заявка  \n",
       "4                   NaN                  Не названа заявка; телефон частично  \n",
       "5                    ДК                                    Не названа заявка  \n",
       "6                   NaN                                    Не названо ничего  \n",
       "8             Квитанция                                    Не названа заявка  \n",
       "10                   ДК                                    Не назван телефон  \n",
       "16                  NaN                                  Другой номер заявки  \n",
       "20                  NaN  Не названа заявка; адрес частично; телефон частично  \n",
       "22                  NaN                  Не названа заявка; телефон частично  \n",
       "23                  NaN                                  Другой номер заявки  \n",
       "27                 _102                                    Не названа заявка  \n",
       "29                  NaN                                    Не названа заявка  \n",
       "30                  NaN                           Не названа заявка; телефон  \n",
       "31                 _358                                    Не названа заявка  \n",
       "32                  NaN                                    Не названа заявка  \n",
       "34            Квитанция                                    Не назван телефон  \n",
       "37                  NaN                           Не названа заявка; телефон  \n",
       "39                  NaN                                    Не назван телефон  "
      ]
     },
     "execution_count": 22,
     "metadata": {},
     "output_type": "execute_result"
    }
   ],
   "source": [
    "troubles.loc[1, 'text'] = 'Три разные заявки в одном разговоре'\n",
    "troubles.loc[[2, 5, 8, 27, 29, 31, 32], 'text'] = 'Не названа заявка'\n",
    "troubles.loc[[4, 22], 'text'] = 'Не названа заявка; телефон частично'\n",
    "troubles.loc[6, 'text'] = 'Не названо ничего'\n",
    "troubles.loc[[10, 34, 39], 'text'] = 'Не назван телефон'\n",
    "troubles.loc[[16, 23], 'text'] = 'Другой номер заявки'\n",
    "troubles.loc[20, 'text'] = 'Не названа заявка; адрес частично; телефон частично'\n",
    "troubles.loc[[30, 37], 'text'] = 'Не названа заявка; телефон'\n",
    "\n",
    "troubles.incoming = troubles.incoming.replace({1: \"Да\", 0: \"Нет\"})\n",
    "\n",
    "troubles.rename(columns={\n",
    "    'call_id': 'Звонок',\n",
    "    'affilate': 'Филиал',\n",
    "    'operator': 'Оператор',\n",
    "    'incoming': 'Входящий звонок',\n",
    "    'ad': 'Реклама',\n",
    "    'ad_info': 'РекламаДопИнформация',\n",
    "    'text': 'Проблема'\n",
    "}, inplace=True)\n",
    "troubles"
   ]
  },
  {
   "cell_type": "code",
   "execution_count": 23,
   "metadata": {},
   "outputs": [],
   "source": [
    "troubles.to_csv('../tables/troubles.csv')\n",
    "troubles.to_excel('../tables/troubles.xlsx')"
   ]
  },
  {
   "cell_type": "code",
   "execution_count": 24,
   "metadata": {},
   "outputs": [],
   "source": [
    "df = pd.DataFrame({\n",
    "    \"category\": [\"Другая заявка\", \"Не назван адрес\", \"Не названа заявка\", \"Не назван телефон\", \"Не названо ничего\", \"Корректно\"],\n",
    "    \"count\": [2, 1, 13, 9, 1, 20]\n",
    "})"
   ]
  },
  {
   "cell_type": "code",
   "execution_count": 25,
   "metadata": {},
   "outputs": [
    {
     "data": {
      "application/vnd.plotly.v1+json": {
       "config": {
        "plotlyServerURL": "https://plot.ly"
       },
       "data": [
        {
         "domain": {
          "x": [
           0,
           1
          ],
          "y": [
           0,
           1
          ]
         },
         "hovertemplate": "category=%{label}<br>count=%{value}<extra></extra>",
         "labels": [
          "Другая заявка",
          "Не назван адрес",
          "Не названа заявка",
          "Не назван телефон",
          "Не названо ничего",
          "Корректно"
         ],
         "legendgroup": "",
         "name": "",
         "showlegend": true,
         "textinfo": "percent",
         "type": "pie",
         "values": [
          2,
          1,
          13,
          9,
          1,
          20
         ]
        }
       ],
       "layout": {
        "height": 900,
        "legend": {
         "font": {
          "size": 40
         },
         "tracegroupgap": 0,
         "y": 0.5,
         "yanchor": "middle"
        },
        "margin": {
         "t": 60
        },
        "template": {
         "data": {
          "bar": [
           {
            "error_x": {
             "color": "#2a3f5f"
            },
            "error_y": {
             "color": "#2a3f5f"
            },
            "marker": {
             "line": {
              "color": "#E5ECF6",
              "width": 0.5
             },
             "pattern": {
              "fillmode": "overlay",
              "size": 10,
              "solidity": 0.2
             }
            },
            "type": "bar"
           }
          ],
          "barpolar": [
           {
            "marker": {
             "line": {
              "color": "#E5ECF6",
              "width": 0.5
             },
             "pattern": {
              "fillmode": "overlay",
              "size": 10,
              "solidity": 0.2
             }
            },
            "type": "barpolar"
           }
          ],
          "carpet": [
           {
            "aaxis": {
             "endlinecolor": "#2a3f5f",
             "gridcolor": "white",
             "linecolor": "white",
             "minorgridcolor": "white",
             "startlinecolor": "#2a3f5f"
            },
            "baxis": {
             "endlinecolor": "#2a3f5f",
             "gridcolor": "white",
             "linecolor": "white",
             "minorgridcolor": "white",
             "startlinecolor": "#2a3f5f"
            },
            "type": "carpet"
           }
          ],
          "choropleth": [
           {
            "colorbar": {
             "outlinewidth": 0,
             "ticks": ""
            },
            "type": "choropleth"
           }
          ],
          "contour": [
           {
            "colorbar": {
             "outlinewidth": 0,
             "ticks": ""
            },
            "colorscale": [
             [
              0,
              "#0d0887"
             ],
             [
              0.1111111111111111,
              "#46039f"
             ],
             [
              0.2222222222222222,
              "#7201a8"
             ],
             [
              0.3333333333333333,
              "#9c179e"
             ],
             [
              0.4444444444444444,
              "#bd3786"
             ],
             [
              0.5555555555555556,
              "#d8576b"
             ],
             [
              0.6666666666666666,
              "#ed7953"
             ],
             [
              0.7777777777777778,
              "#fb9f3a"
             ],
             [
              0.8888888888888888,
              "#fdca26"
             ],
             [
              1,
              "#f0f921"
             ]
            ],
            "type": "contour"
           }
          ],
          "contourcarpet": [
           {
            "colorbar": {
             "outlinewidth": 0,
             "ticks": ""
            },
            "type": "contourcarpet"
           }
          ],
          "heatmap": [
           {
            "colorbar": {
             "outlinewidth": 0,
             "ticks": ""
            },
            "colorscale": [
             [
              0,
              "#0d0887"
             ],
             [
              0.1111111111111111,
              "#46039f"
             ],
             [
              0.2222222222222222,
              "#7201a8"
             ],
             [
              0.3333333333333333,
              "#9c179e"
             ],
             [
              0.4444444444444444,
              "#bd3786"
             ],
             [
              0.5555555555555556,
              "#d8576b"
             ],
             [
              0.6666666666666666,
              "#ed7953"
             ],
             [
              0.7777777777777778,
              "#fb9f3a"
             ],
             [
              0.8888888888888888,
              "#fdca26"
             ],
             [
              1,
              "#f0f921"
             ]
            ],
            "type": "heatmap"
           }
          ],
          "heatmapgl": [
           {
            "colorbar": {
             "outlinewidth": 0,
             "ticks": ""
            },
            "colorscale": [
             [
              0,
              "#0d0887"
             ],
             [
              0.1111111111111111,
              "#46039f"
             ],
             [
              0.2222222222222222,
              "#7201a8"
             ],
             [
              0.3333333333333333,
              "#9c179e"
             ],
             [
              0.4444444444444444,
              "#bd3786"
             ],
             [
              0.5555555555555556,
              "#d8576b"
             ],
             [
              0.6666666666666666,
              "#ed7953"
             ],
             [
              0.7777777777777778,
              "#fb9f3a"
             ],
             [
              0.8888888888888888,
              "#fdca26"
             ],
             [
              1,
              "#f0f921"
             ]
            ],
            "type": "heatmapgl"
           }
          ],
          "histogram": [
           {
            "marker": {
             "pattern": {
              "fillmode": "overlay",
              "size": 10,
              "solidity": 0.2
             }
            },
            "type": "histogram"
           }
          ],
          "histogram2d": [
           {
            "colorbar": {
             "outlinewidth": 0,
             "ticks": ""
            },
            "colorscale": [
             [
              0,
              "#0d0887"
             ],
             [
              0.1111111111111111,
              "#46039f"
             ],
             [
              0.2222222222222222,
              "#7201a8"
             ],
             [
              0.3333333333333333,
              "#9c179e"
             ],
             [
              0.4444444444444444,
              "#bd3786"
             ],
             [
              0.5555555555555556,
              "#d8576b"
             ],
             [
              0.6666666666666666,
              "#ed7953"
             ],
             [
              0.7777777777777778,
              "#fb9f3a"
             ],
             [
              0.8888888888888888,
              "#fdca26"
             ],
             [
              1,
              "#f0f921"
             ]
            ],
            "type": "histogram2d"
           }
          ],
          "histogram2dcontour": [
           {
            "colorbar": {
             "outlinewidth": 0,
             "ticks": ""
            },
            "colorscale": [
             [
              0,
              "#0d0887"
             ],
             [
              0.1111111111111111,
              "#46039f"
             ],
             [
              0.2222222222222222,
              "#7201a8"
             ],
             [
              0.3333333333333333,
              "#9c179e"
             ],
             [
              0.4444444444444444,
              "#bd3786"
             ],
             [
              0.5555555555555556,
              "#d8576b"
             ],
             [
              0.6666666666666666,
              "#ed7953"
             ],
             [
              0.7777777777777778,
              "#fb9f3a"
             ],
             [
              0.8888888888888888,
              "#fdca26"
             ],
             [
              1,
              "#f0f921"
             ]
            ],
            "type": "histogram2dcontour"
           }
          ],
          "mesh3d": [
           {
            "colorbar": {
             "outlinewidth": 0,
             "ticks": ""
            },
            "type": "mesh3d"
           }
          ],
          "parcoords": [
           {
            "line": {
             "colorbar": {
              "outlinewidth": 0,
              "ticks": ""
             }
            },
            "type": "parcoords"
           }
          ],
          "pie": [
           {
            "automargin": true,
            "type": "pie"
           }
          ],
          "scatter": [
           {
            "fillpattern": {
             "fillmode": "overlay",
             "size": 10,
             "solidity": 0.2
            },
            "type": "scatter"
           }
          ],
          "scatter3d": [
           {
            "line": {
             "colorbar": {
              "outlinewidth": 0,
              "ticks": ""
             }
            },
            "marker": {
             "colorbar": {
              "outlinewidth": 0,
              "ticks": ""
             }
            },
            "type": "scatter3d"
           }
          ],
          "scattercarpet": [
           {
            "marker": {
             "colorbar": {
              "outlinewidth": 0,
              "ticks": ""
             }
            },
            "type": "scattercarpet"
           }
          ],
          "scattergeo": [
           {
            "marker": {
             "colorbar": {
              "outlinewidth": 0,
              "ticks": ""
             }
            },
            "type": "scattergeo"
           }
          ],
          "scattergl": [
           {
            "marker": {
             "colorbar": {
              "outlinewidth": 0,
              "ticks": ""
             }
            },
            "type": "scattergl"
           }
          ],
          "scattermapbox": [
           {
            "marker": {
             "colorbar": {
              "outlinewidth": 0,
              "ticks": ""
             }
            },
            "type": "scattermapbox"
           }
          ],
          "scatterpolar": [
           {
            "marker": {
             "colorbar": {
              "outlinewidth": 0,
              "ticks": ""
             }
            },
            "type": "scatterpolar"
           }
          ],
          "scatterpolargl": [
           {
            "marker": {
             "colorbar": {
              "outlinewidth": 0,
              "ticks": ""
             }
            },
            "type": "scatterpolargl"
           }
          ],
          "scatterternary": [
           {
            "marker": {
             "colorbar": {
              "outlinewidth": 0,
              "ticks": ""
             }
            },
            "type": "scatterternary"
           }
          ],
          "surface": [
           {
            "colorbar": {
             "outlinewidth": 0,
             "ticks": ""
            },
            "colorscale": [
             [
              0,
              "#0d0887"
             ],
             [
              0.1111111111111111,
              "#46039f"
             ],
             [
              0.2222222222222222,
              "#7201a8"
             ],
             [
              0.3333333333333333,
              "#9c179e"
             ],
             [
              0.4444444444444444,
              "#bd3786"
             ],
             [
              0.5555555555555556,
              "#d8576b"
             ],
             [
              0.6666666666666666,
              "#ed7953"
             ],
             [
              0.7777777777777778,
              "#fb9f3a"
             ],
             [
              0.8888888888888888,
              "#fdca26"
             ],
             [
              1,
              "#f0f921"
             ]
            ],
            "type": "surface"
           }
          ],
          "table": [
           {
            "cells": {
             "fill": {
              "color": "#EBF0F8"
             },
             "line": {
              "color": "white"
             }
            },
            "header": {
             "fill": {
              "color": "#C8D4E3"
             },
             "line": {
              "color": "white"
             }
            },
            "type": "table"
           }
          ]
         },
         "layout": {
          "annotationdefaults": {
           "arrowcolor": "#2a3f5f",
           "arrowhead": 0,
           "arrowwidth": 1
          },
          "autotypenumbers": "strict",
          "coloraxis": {
           "colorbar": {
            "outlinewidth": 0,
            "ticks": ""
           }
          },
          "colorscale": {
           "diverging": [
            [
             0,
             "#8e0152"
            ],
            [
             0.1,
             "#c51b7d"
            ],
            [
             0.2,
             "#de77ae"
            ],
            [
             0.3,
             "#f1b6da"
            ],
            [
             0.4,
             "#fde0ef"
            ],
            [
             0.5,
             "#f7f7f7"
            ],
            [
             0.6,
             "#e6f5d0"
            ],
            [
             0.7,
             "#b8e186"
            ],
            [
             0.8,
             "#7fbc41"
            ],
            [
             0.9,
             "#4d9221"
            ],
            [
             1,
             "#276419"
            ]
           ],
           "sequential": [
            [
             0,
             "#0d0887"
            ],
            [
             0.1111111111111111,
             "#46039f"
            ],
            [
             0.2222222222222222,
             "#7201a8"
            ],
            [
             0.3333333333333333,
             "#9c179e"
            ],
            [
             0.4444444444444444,
             "#bd3786"
            ],
            [
             0.5555555555555556,
             "#d8576b"
            ],
            [
             0.6666666666666666,
             "#ed7953"
            ],
            [
             0.7777777777777778,
             "#fb9f3a"
            ],
            [
             0.8888888888888888,
             "#fdca26"
            ],
            [
             1,
             "#f0f921"
            ]
           ],
           "sequentialminus": [
            [
             0,
             "#0d0887"
            ],
            [
             0.1111111111111111,
             "#46039f"
            ],
            [
             0.2222222222222222,
             "#7201a8"
            ],
            [
             0.3333333333333333,
             "#9c179e"
            ],
            [
             0.4444444444444444,
             "#bd3786"
            ],
            [
             0.5555555555555556,
             "#d8576b"
            ],
            [
             0.6666666666666666,
             "#ed7953"
            ],
            [
             0.7777777777777778,
             "#fb9f3a"
            ],
            [
             0.8888888888888888,
             "#fdca26"
            ],
            [
             1,
             "#f0f921"
            ]
           ]
          },
          "colorway": [
           "#636efa",
           "#EF553B",
           "#00cc96",
           "#ab63fa",
           "#FFA15A",
           "#19d3f3",
           "#FF6692",
           "#B6E880",
           "#FF97FF",
           "#FECB52"
          ],
          "font": {
           "color": "#2a3f5f"
          },
          "geo": {
           "bgcolor": "white",
           "lakecolor": "white",
           "landcolor": "#E5ECF6",
           "showlakes": true,
           "showland": true,
           "subunitcolor": "white"
          },
          "hoverlabel": {
           "align": "left"
          },
          "hovermode": "closest",
          "mapbox": {
           "style": "light"
          },
          "paper_bgcolor": "white",
          "plot_bgcolor": "#E5ECF6",
          "polar": {
           "angularaxis": {
            "gridcolor": "white",
            "linecolor": "white",
            "ticks": ""
           },
           "bgcolor": "#E5ECF6",
           "radialaxis": {
            "gridcolor": "white",
            "linecolor": "white",
            "ticks": ""
           }
          },
          "scene": {
           "xaxis": {
            "backgroundcolor": "#E5ECF6",
            "gridcolor": "white",
            "gridwidth": 2,
            "linecolor": "white",
            "showbackground": true,
            "ticks": "",
            "zerolinecolor": "white"
           },
           "yaxis": {
            "backgroundcolor": "#E5ECF6",
            "gridcolor": "white",
            "gridwidth": 2,
            "linecolor": "white",
            "showbackground": true,
            "ticks": "",
            "zerolinecolor": "white"
           },
           "zaxis": {
            "backgroundcolor": "#E5ECF6",
            "gridcolor": "white",
            "gridwidth": 2,
            "linecolor": "white",
            "showbackground": true,
            "ticks": "",
            "zerolinecolor": "white"
           }
          },
          "shapedefaults": {
           "line": {
            "color": "#2a3f5f"
           }
          },
          "ternary": {
           "aaxis": {
            "gridcolor": "white",
            "linecolor": "white",
            "ticks": ""
           },
           "baxis": {
            "gridcolor": "white",
            "linecolor": "white",
            "ticks": ""
           },
           "bgcolor": "#E5ECF6",
           "caxis": {
            "gridcolor": "white",
            "linecolor": "white",
            "ticks": ""
           }
          },
          "title": {
           "x": 0.05
          },
          "xaxis": {
           "automargin": true,
           "gridcolor": "white",
           "linecolor": "white",
           "ticks": "",
           "title": {
            "standoff": 15
           },
           "zerolinecolor": "white",
           "zerolinewidth": 2
          },
          "yaxis": {
           "automargin": true,
           "gridcolor": "white",
           "linecolor": "white",
           "ticks": "",
           "title": {
            "standoff": 15
           },
           "zerolinecolor": "white",
           "zerolinewidth": 2
          }
         }
        },
        "title": {
         "font": {
          "size": 50
         },
         "text": "Проблемные разговоры",
         "x": 0.5,
         "y": 0.98
        },
        "uniformtext": {
         "minsize": 30,
         "mode": "hide"
        },
        "width": 2100
       }
      }
     },
     "metadata": {},
     "output_type": "display_data"
    }
   ],
   "source": [
    "fig = px.pie(df, values='count', names='category').update_traces(\n",
    "            textinfo=\"percent\",\n",
    "        ).update_layout(\n",
    "            uniformtext_minsize=30,\n",
    "            uniformtext_mode=\"hide\",\n",
    "            width=2100,\n",
    "            height=900,\n",
    "            title=dict(text='Проблемные разговоры', x=0.5, y=0.98, font_size=50),\n",
    "            legend=dict(font_size=40, y=0.5, yanchor=\"middle\")\n",
    "        )\n",
    "fig.show()"
   ]
  }
 ],
 "metadata": {
  "kernelspec": {
   "display_name": "text-chats-clustering-2ZPHndiz-py3.11",
   "language": "python",
   "name": "python3"
  },
  "language_info": {
   "codemirror_mode": {
    "name": "ipython",
    "version": 3
   },
   "file_extension": ".py",
   "mimetype": "text/x-python",
   "name": "python",
   "nbconvert_exporter": "python",
   "pygments_lexer": "ipython3",
   "version": "3.11.6"
  }
 },
 "nbformat": 4,
 "nbformat_minor": 2
}
